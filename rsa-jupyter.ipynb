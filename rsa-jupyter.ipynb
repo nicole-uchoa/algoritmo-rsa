{
  "cells": [
    {
      "cell_type": "code",
      "execution_count": null,
      "metadata": {
        "trusted": true
      },
      "outputs": [
        {
          "name": "stdout",
          "output_type": "stream",
          "text": [
            "number please: 56\n"
          ]
        }
      ],
      "source": [
        "import random \n",
        "import math \n",
        "\n",
        "def gera_primos():\n",
        "# RSA precisa de números grandes para a criptografia ser efetiva    \n",
        "    primos = []\n",
        "    for possivel_primo in range(1000, 10000):\n",
        "        if all(possivel_primo % i != 0 for i in range(2, int(possivel_primo**0.5) + 1)):\n",
        "            primos.append(possivel_primo)\n",
        "    return random.choice(primos)\n",
        "\n",
        "\n",
        "def gera_coprimo(z, n):\n",
        "    # o máximo divisor comum entre e, z deve ser 1 e e < n\n",
        "    while True:\n",
        "        e = random.randint(2, z)\n",
        "        if (math.gcd(e, z) == 1) & (e < n):\n",
        "            return e\n",
        "            \n",
        "def calcula_mod_inverso(a, m):\n",
        "    # checa se mdc == 1\n",
        "    if math.gcd(a, m) != 1:\n",
        "        return None\n",
        "    # calcula inverso multiplicativo de a mod b\n",
        "    return pow(a, -1, m)\n",
        "    \n",
        "def gera_chaves():\n",
        "    p = gera_primos()\n",
        "    q = gera_primos()\n",
        "    n = p * q\n",
        "    z = (p - 1) * (q - 1)\n",
        "    e = gera_coprimo(z, n)\n",
        "    d = calcula_mod_inverso(e, z)\n",
        "    return (n, e), d\n",
        "\n",
        "def criptografar(mensagem, public_key):\n",
        "    n = public_key[0]\n",
        "    e = public_key[1]\n",
        "    return pow(mensagem, e, n)\n",
        "\n",
        "def decriptar(texto_cifrado, n, private_key):\n",
        "    return pow(texto_cifrado, private_key, n)\n",
        "\n",
        "\n",
        "mensagem = int(await(input(\"number please:\")))\n"
      ]
    },
    {
      "cell_type": "code",
      "execution_count": null,
      "metadata": {
        "trusted": true
      },
      "outputs": [
        {
          "name": "stdout",
          "output_type": "stream",
          "text": [
            "Mensagem criptografada: 24485942\n",
            "Mensagem descriptografada: 56\n"
          ]
        }
      ],
      "source": [
        "public_key, private_key = gera_chaves()\n",
        "n = public_key[0]\n",
        "texto_cifrado = criptografar(mensagem, public_key)\n",
        "msg_decriptada = decriptar(texto_cifrado,n, private_key)\n",
        "\n",
        "print(\"Mensagem criptografada:\", texto_cifrado)\n",
        "print(\"Mensagem descriptografada:\", msg_decriptada)"
      ]
    }
  ],
  "metadata": {
    "kernelspec": {
      "display_name": "Python (Pyodide)",
      "language": "python",
      "name": "python"
    },
    "language_info": {
      "codemirror_mode": {
        "name": "python",
        "version": 3
      },
      "file_extension": ".py",
      "mimetype": "text/x-python",
      "name": "python",
      "nbconvert_exporter": "python",
      "pygments_lexer": "ipython3",
      "version": "3.8"
    }
  },
  "nbformat": 4,
  "nbformat_minor": 4
}
